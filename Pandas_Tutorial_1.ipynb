{
  "nbformat": 4,
  "nbformat_minor": 0,
  "metadata": {
    "colab": {
      "provenance": [],
      "authorship_tag": "ABX9TyPCzLKZmdXPdKnkkaK2H5X/",
      "include_colab_link": true
    },
    "kernelspec": {
      "name": "python3",
      "display_name": "Python 3"
    },
    "language_info": {
      "name": "python"
    }
  },
  "cells": [
    {
      "cell_type": "markdown",
      "metadata": {
        "id": "view-in-github",
        "colab_type": "text"
      },
      "source": [
        "<a href=\"https://colab.research.google.com/github/Mrityunjayyshukla/python-roadmap/blob/main/Pandas_Tutorial_1.ipynb\" target=\"_parent\"><img src=\"https://colab.research.google.com/assets/colab-badge.svg\" alt=\"Open In Colab\"/></a>"
      ]
    },
    {
      "cell_type": "markdown",
      "source": [
        "# Pandas in Python"
      ],
      "metadata": {
        "id": "-aEKAJqPNAxI"
      }
    },
    {
      "cell_type": "markdown",
      "source": [
        "Series are Pandas data structures built on top of numpy arrays.\n",
        "\n",
        "1. Series can also contain index and an optional name, in addition to the array of data.\n",
        "2. They can be created from other Data Types, but are usually imported from external sources.\n",
        "3. Two or more Series grouped together form a Pandas Dataframe."
      ],
      "metadata": {
        "id": "OC_CbQWqNzg5"
      }
    },
    {
      "cell_type": "code",
      "execution_count": null,
      "metadata": {
        "id": "U1g4K6RUBBZD",
        "colab": {
          "base_uri": "https://localhost:8080/",
          "height": 272
        },
        "outputId": "0771c781-7080-431e-9baf-ae95404f1123"
      },
      "outputs": [
        {
          "output_type": "execute_result",
          "data": {
            "text/plain": [
              "0      0\n",
              "1      5\n",
              "2    155\n",
              "3      0\n",
              "4    518\n",
              "5      0\n",
              "Name: False, dtype: int64"
            ],
            "text/html": [
              "<div>\n",
              "<style scoped>\n",
              "    .dataframe tbody tr th:only-of-type {\n",
              "        vertical-align: middle;\n",
              "    }\n",
              "\n",
              "    .dataframe tbody tr th {\n",
              "        vertical-align: top;\n",
              "    }\n",
              "\n",
              "    .dataframe thead th {\n",
              "        text-align: right;\n",
              "    }\n",
              "</style>\n",
              "<table border=\"1\" class=\"dataframe\">\n",
              "  <thead>\n",
              "    <tr style=\"text-align: right;\">\n",
              "      <th></th>\n",
              "      <th>False</th>\n",
              "    </tr>\n",
              "  </thead>\n",
              "  <tbody>\n",
              "    <tr>\n",
              "      <th>0</th>\n",
              "      <td>0</td>\n",
              "    </tr>\n",
              "    <tr>\n",
              "      <th>1</th>\n",
              "      <td>5</td>\n",
              "    </tr>\n",
              "    <tr>\n",
              "      <th>2</th>\n",
              "      <td>155</td>\n",
              "    </tr>\n",
              "    <tr>\n",
              "      <th>3</th>\n",
              "      <td>0</td>\n",
              "    </tr>\n",
              "    <tr>\n",
              "      <th>4</th>\n",
              "      <td>518</td>\n",
              "    </tr>\n",
              "    <tr>\n",
              "      <th>5</th>\n",
              "      <td>0</td>\n",
              "    </tr>\n",
              "  </tbody>\n",
              "</table>\n",
              "</div><br><label><b>dtype:</b> int64</label>"
            ]
          },
          "metadata": {},
          "execution_count": 4
        }
      ],
      "source": [
        "import numpy as np\n",
        "import pandas as pd\n",
        "\n",
        "sales = [0,5,155,0,518,0]\n",
        "\n",
        "# Pandas series function converts Python lists\n",
        "# and Numpy arrays into Pandas series.\n",
        "sales_series = pd.Series(sales, name=\"False\")\n",
        "sales_series"
      ]
    },
    {
      "cell_type": "markdown",
      "source": [
        "Pandas series have key properties:\n",
        "1. values: data array in the series.\n",
        "2. index: index array in the series.\n",
        "3. name: optional name for the series.\n",
        "4. dtype: the data type of the elements in the values array."
      ],
      "metadata": {
        "id": "VoEk47PsPLeQ"
      }
    },
    {
      "cell_type": "code",
      "source": [
        "print(sales_series.mean())\n",
        "print(sales_series.values)\n",
        "print(sales_series.sum())"
      ],
      "metadata": {
        "colab": {
          "base_uri": "https://localhost:8080/"
        },
        "id": "ZT20TnXHQXAK",
        "outputId": "055d16f1-d4ed-4b0f-8dce-5fb3ffb3476d"
      },
      "execution_count": null,
      "outputs": [
        {
          "output_type": "stream",
          "name": "stdout",
          "text": [
            "113.0\n",
            "[  0   5 155   0 518   0]\n",
            "678\n"
          ]
        }
      ]
    },
    {
      "cell_type": "code",
      "source": [
        "# Convert datatypes of the elements in the pandas series.\n",
        "print(sales_series.astype('float'))\n",
        "print(sales_series.astype('bool'))"
      ],
      "metadata": {
        "colab": {
          "base_uri": "https://localhost:8080/"
        },
        "id": "AKITs0AhReVb",
        "outputId": "7c7e994e-4676-4ad3-99b7-c7db6631d670"
      },
      "execution_count": null,
      "outputs": [
        {
          "output_type": "stream",
          "name": "stdout",
          "text": [
            "0      0.0\n",
            "1      5.0\n",
            "2    155.0\n",
            "3      0.0\n",
            "4    518.0\n",
            "5      0.0\n",
            "Name: False, dtype: float64\n",
            "0    False\n",
            "1     True\n",
            "2     True\n",
            "3    False\n",
            "4     True\n",
            "5    False\n",
            "Name: False, dtype: bool\n"
          ]
        }
      ]
    },
    {
      "cell_type": "markdown",
      "source": [
        "In Pandas, index is used to access each row in a series or a dataframe.\n",
        "We can even use custom index in pandas dataframe to access the rows."
      ],
      "metadata": {
        "id": "5izn6avuUNbl"
      }
    },
    {
      "cell_type": "code",
      "source": [
        "sales = [0,5,155,0,518]\n",
        "items=[\"Coffee\",\"banana\",\"tea\",\"coconut\",\"sugar\"]\n",
        "sales_series = pd.Series(sales, index=items, name=\"Sales\")\n",
        "print(sales_series)\n",
        "print(sales_series['tea'])"
      ],
      "metadata": {
        "colab": {
          "base_uri": "https://localhost:8080/"
        },
        "id": "VIzCczu1UTZ8",
        "outputId": "42d57a52-60cc-499e-b550-fc48ab467ce8"
      },
      "execution_count": null,
      "outputs": [
        {
          "output_type": "stream",
          "name": "stdout",
          "text": [
            "Coffee       0\n",
            "banana       5\n",
            "tea        155\n",
            "coconut      0\n",
            "sugar      518\n",
            "Name: Sales, dtype: int64\n",
            "155\n"
          ]
        }
      ]
    },
    {
      "cell_type": "markdown",
      "source": [
        "The .iloc[] method is the preferred way to access values by their positional index.\n",
        "1. This method works even when Series have a custom, non-integer index.\n",
        "2. It is more efficient than slicing and is recommended by Pandas creators.\n"
      ],
      "metadata": {
        "id": "zyp7hKM8WryI"
      }
    },
    {
      "cell_type": "code",
      "source": [
        "# df.iloc[row_position, column_position]\n",
        "print(sales_series.iloc[2])  # Accesses the 2nd element\n",
        "print(sales_series.iloc[1:])"
      ],
      "metadata": {
        "colab": {
          "base_uri": "https://localhost:8080/"
        },
        "id": "gqJCdq0TXBwd",
        "outputId": "137bc2c0-8782-410c-b296-75c2a7de6c8f"
      },
      "execution_count": null,
      "outputs": [
        {
          "output_type": "stream",
          "name": "stdout",
          "text": [
            "155\n",
            "banana       5\n",
            "tea        155\n",
            "coconut      0\n",
            "sugar      518\n",
            "Name: Sales, dtype: int64\n"
          ]
        }
      ]
    },
    {
      "cell_type": "markdown",
      "source": [
        "The .loc[] method is the preferred way to access values by their custom labels"
      ],
      "metadata": {
        "id": "CzkEB2mEZ5Mq"
      }
    },
    {
      "cell_type": "code",
      "source": [
        "# df.loc[row_label, column_label]\n",
        "print(sales_series.loc[\"tea\"])\n",
        "print(sales_series.loc[\"banana\":\"coconut\"]) # Both values are inclusive"
      ],
      "metadata": {
        "colab": {
          "base_uri": "https://localhost:8080/"
        },
        "id": "EYbjsYQaaAsa",
        "outputId": "6f314d67-eeee-4779-fe1a-23a8996dab27"
      },
      "execution_count": null,
      "outputs": [
        {
          "output_type": "stream",
          "name": "stdout",
          "text": [
            "155\n",
            "banana       5\n",
            "tea        155\n",
            "coconut      0\n",
            "Name: Sales, dtype: int64\n"
          ]
        }
      ]
    },
    {
      "cell_type": "markdown",
      "source": [
        "It is possible to have duplicate index values in pandas series or dataframe.\n",
        "\n",
        "- Accessing these indices by their label using .iloc[] returns all corresponding rows."
      ],
      "metadata": {
        "id": "zMKDFeCehZT_"
      }
    },
    {
      "cell_type": "code",
      "source": [
        "sales = [0,5,155,0,518]\n",
        "items = [\"Coffee\",\"Coffee\",\"tea\",\"coconut\",\"sugar\"]\n",
        "\n",
        "sales_series = pd.Series(sales, index=items, name=\"Sales\")\n",
        "sales_series"
      ],
      "metadata": {
        "colab": {
          "base_uri": "https://localhost:8080/",
          "height": 241
        },
        "id": "ATgxiUJXhqFe",
        "outputId": "6e458aa8-3db0-40ac-b831-2ec760c96313"
      },
      "execution_count": null,
      "outputs": [
        {
          "output_type": "execute_result",
          "data": {
            "text/plain": [
              "Coffee       0\n",
              "Coffee       5\n",
              "tea        155\n",
              "coconut      0\n",
              "sugar      518\n",
              "Name: Sales, dtype: int64"
            ],
            "text/html": [
              "<div>\n",
              "<style scoped>\n",
              "    .dataframe tbody tr th:only-of-type {\n",
              "        vertical-align: middle;\n",
              "    }\n",
              "\n",
              "    .dataframe tbody tr th {\n",
              "        vertical-align: top;\n",
              "    }\n",
              "\n",
              "    .dataframe thead th {\n",
              "        text-align: right;\n",
              "    }\n",
              "</style>\n",
              "<table border=\"1\" class=\"dataframe\">\n",
              "  <thead>\n",
              "    <tr style=\"text-align: right;\">\n",
              "      <th></th>\n",
              "      <th>Sales</th>\n",
              "    </tr>\n",
              "  </thead>\n",
              "  <tbody>\n",
              "    <tr>\n",
              "      <th>Coffee</th>\n",
              "      <td>0</td>\n",
              "    </tr>\n",
              "    <tr>\n",
              "      <th>Coffee</th>\n",
              "      <td>5</td>\n",
              "    </tr>\n",
              "    <tr>\n",
              "      <th>tea</th>\n",
              "      <td>155</td>\n",
              "    </tr>\n",
              "    <tr>\n",
              "      <th>coconut</th>\n",
              "      <td>0</td>\n",
              "    </tr>\n",
              "    <tr>\n",
              "      <th>sugar</th>\n",
              "      <td>518</td>\n",
              "    </tr>\n",
              "  </tbody>\n",
              "</table>\n",
              "</div><br><label><b>dtype:</b> int64</label>"
            ]
          },
          "metadata": {},
          "execution_count": 30
        }
      ]
    },
    {
      "cell_type": "code",
      "source": [
        "sales_series.loc[\"Coffee\"]\n",
        "# All the values that have \"Coffee\" as their index will be returned."
      ],
      "metadata": {
        "colab": {
          "base_uri": "https://localhost:8080/",
          "height": 146
        },
        "id": "MGUT70EtiJfd",
        "outputId": "ed5928ac-d47a-4e26-f707-20a847505e38"
      },
      "execution_count": null,
      "outputs": [
        {
          "output_type": "execute_result",
          "data": {
            "text/plain": [
              "Coffee    0\n",
              "Coffee    5\n",
              "Name: Sales, dtype: int64"
            ],
            "text/html": [
              "<div>\n",
              "<style scoped>\n",
              "    .dataframe tbody tr th:only-of-type {\n",
              "        vertical-align: middle;\n",
              "    }\n",
              "\n",
              "    .dataframe tbody tr th {\n",
              "        vertical-align: top;\n",
              "    }\n",
              "\n",
              "    .dataframe thead th {\n",
              "        text-align: right;\n",
              "    }\n",
              "</style>\n",
              "<table border=\"1\" class=\"dataframe\">\n",
              "  <thead>\n",
              "    <tr style=\"text-align: right;\">\n",
              "      <th></th>\n",
              "      <th>Sales</th>\n",
              "    </tr>\n",
              "  </thead>\n",
              "  <tbody>\n",
              "    <tr>\n",
              "      <th>Coffee</th>\n",
              "      <td>0</td>\n",
              "    </tr>\n",
              "    <tr>\n",
              "      <th>Coffee</th>\n",
              "      <td>5</td>\n",
              "    </tr>\n",
              "  </tbody>\n",
              "</table>\n",
              "</div><br><label><b>dtype:</b> int64</label>"
            ]
          },
          "metadata": {},
          "execution_count": 31
        }
      ]
    },
    {
      "cell_type": "markdown",
      "source": [
        "You can reset the index in a Panda Series or DataFrame back to default range of integers by using the .reset_index() method.\n",
        "\n",
        "- By default, the existing index will become a new column in a DataFrame."
      ],
      "metadata": {
        "id": "cRChbCmNrmeP"
      }
    },
    {
      "cell_type": "code",
      "source": [
        "sales_series.reset_index()"
      ],
      "metadata": {
        "colab": {
          "base_uri": "https://localhost:8080/",
          "height": 206
        },
        "id": "p84BjYJ0s107",
        "outputId": "78bd02ee-ff6f-4a3a-9d28-e5219de10cf5"
      },
      "execution_count": null,
      "outputs": [
        {
          "output_type": "execute_result",
          "data": {
            "text/plain": [
              "     index  Sales\n",
              "0   Coffee      0\n",
              "1   Coffee      5\n",
              "2      tea    155\n",
              "3  coconut      0\n",
              "4    sugar    518"
            ],
            "text/html": [
              "\n",
              "  <div id=\"df-2b339601-f876-4999-974f-5bd30750b4ca\" class=\"colab-df-container\">\n",
              "    <div>\n",
              "<style scoped>\n",
              "    .dataframe tbody tr th:only-of-type {\n",
              "        vertical-align: middle;\n",
              "    }\n",
              "\n",
              "    .dataframe tbody tr th {\n",
              "        vertical-align: top;\n",
              "    }\n",
              "\n",
              "    .dataframe thead th {\n",
              "        text-align: right;\n",
              "    }\n",
              "</style>\n",
              "<table border=\"1\" class=\"dataframe\">\n",
              "  <thead>\n",
              "    <tr style=\"text-align: right;\">\n",
              "      <th></th>\n",
              "      <th>index</th>\n",
              "      <th>Sales</th>\n",
              "    </tr>\n",
              "  </thead>\n",
              "  <tbody>\n",
              "    <tr>\n",
              "      <th>0</th>\n",
              "      <td>Coffee</td>\n",
              "      <td>0</td>\n",
              "    </tr>\n",
              "    <tr>\n",
              "      <th>1</th>\n",
              "      <td>Coffee</td>\n",
              "      <td>5</td>\n",
              "    </tr>\n",
              "    <tr>\n",
              "      <th>2</th>\n",
              "      <td>tea</td>\n",
              "      <td>155</td>\n",
              "    </tr>\n",
              "    <tr>\n",
              "      <th>3</th>\n",
              "      <td>coconut</td>\n",
              "      <td>0</td>\n",
              "    </tr>\n",
              "    <tr>\n",
              "      <th>4</th>\n",
              "      <td>sugar</td>\n",
              "      <td>518</td>\n",
              "    </tr>\n",
              "  </tbody>\n",
              "</table>\n",
              "</div>\n",
              "    <div class=\"colab-df-buttons\">\n",
              "\n",
              "  <div class=\"colab-df-container\">\n",
              "    <button class=\"colab-df-convert\" onclick=\"convertToInteractive('df-2b339601-f876-4999-974f-5bd30750b4ca')\"\n",
              "            title=\"Convert this dataframe to an interactive table.\"\n",
              "            style=\"display:none;\">\n",
              "\n",
              "  <svg xmlns=\"http://www.w3.org/2000/svg\" height=\"24px\" viewBox=\"0 -960 960 960\">\n",
              "    <path d=\"M120-120v-720h720v720H120Zm60-500h600v-160H180v160Zm220 220h160v-160H400v160Zm0 220h160v-160H400v160ZM180-400h160v-160H180v160Zm440 0h160v-160H620v160ZM180-180h160v-160H180v160Zm440 0h160v-160H620v160Z\"/>\n",
              "  </svg>\n",
              "    </button>\n",
              "\n",
              "  <style>\n",
              "    .colab-df-container {\n",
              "      display:flex;\n",
              "      gap: 12px;\n",
              "    }\n",
              "\n",
              "    .colab-df-convert {\n",
              "      background-color: #E8F0FE;\n",
              "      border: none;\n",
              "      border-radius: 50%;\n",
              "      cursor: pointer;\n",
              "      display: none;\n",
              "      fill: #1967D2;\n",
              "      height: 32px;\n",
              "      padding: 0 0 0 0;\n",
              "      width: 32px;\n",
              "    }\n",
              "\n",
              "    .colab-df-convert:hover {\n",
              "      background-color: #E2EBFA;\n",
              "      box-shadow: 0px 1px 2px rgba(60, 64, 67, 0.3), 0px 1px 3px 1px rgba(60, 64, 67, 0.15);\n",
              "      fill: #174EA6;\n",
              "    }\n",
              "\n",
              "    .colab-df-buttons div {\n",
              "      margin-bottom: 4px;\n",
              "    }\n",
              "\n",
              "    [theme=dark] .colab-df-convert {\n",
              "      background-color: #3B4455;\n",
              "      fill: #D2E3FC;\n",
              "    }\n",
              "\n",
              "    [theme=dark] .colab-df-convert:hover {\n",
              "      background-color: #434B5C;\n",
              "      box-shadow: 0px 1px 3px 1px rgba(0, 0, 0, 0.15);\n",
              "      filter: drop-shadow(0px 1px 2px rgba(0, 0, 0, 0.3));\n",
              "      fill: #FFFFFF;\n",
              "    }\n",
              "  </style>\n",
              "\n",
              "    <script>\n",
              "      const buttonEl =\n",
              "        document.querySelector('#df-2b339601-f876-4999-974f-5bd30750b4ca button.colab-df-convert');\n",
              "      buttonEl.style.display =\n",
              "        google.colab.kernel.accessAllowed ? 'block' : 'none';\n",
              "\n",
              "      async function convertToInteractive(key) {\n",
              "        const element = document.querySelector('#df-2b339601-f876-4999-974f-5bd30750b4ca');\n",
              "        const dataTable =\n",
              "          await google.colab.kernel.invokeFunction('convertToInteractive',\n",
              "                                                    [key], {});\n",
              "        if (!dataTable) return;\n",
              "\n",
              "        const docLinkHtml = 'Like what you see? Visit the ' +\n",
              "          '<a target=\"_blank\" href=https://colab.research.google.com/notebooks/data_table.ipynb>data table notebook</a>'\n",
              "          + ' to learn more about interactive tables.';\n",
              "        element.innerHTML = '';\n",
              "        dataTable['output_type'] = 'display_data';\n",
              "        await google.colab.output.renderOutput(dataTable, element);\n",
              "        const docLink = document.createElement('div');\n",
              "        docLink.innerHTML = docLinkHtml;\n",
              "        element.appendChild(docLink);\n",
              "      }\n",
              "    </script>\n",
              "  </div>\n",
              "\n",
              "\n",
              "    <div id=\"df-73c0aed5-6071-4a05-8c0f-4c8e1ffa77af\">\n",
              "      <button class=\"colab-df-quickchart\" onclick=\"quickchart('df-73c0aed5-6071-4a05-8c0f-4c8e1ffa77af')\"\n",
              "                title=\"Suggest charts\"\n",
              "                style=\"display:none;\">\n",
              "\n",
              "<svg xmlns=\"http://www.w3.org/2000/svg\" height=\"24px\"viewBox=\"0 0 24 24\"\n",
              "     width=\"24px\">\n",
              "    <g>\n",
              "        <path d=\"M19 3H5c-1.1 0-2 .9-2 2v14c0 1.1.9 2 2 2h14c1.1 0 2-.9 2-2V5c0-1.1-.9-2-2-2zM9 17H7v-7h2v7zm4 0h-2V7h2v10zm4 0h-2v-4h2v4z\"/>\n",
              "    </g>\n",
              "</svg>\n",
              "      </button>\n",
              "\n",
              "<style>\n",
              "  .colab-df-quickchart {\n",
              "      --bg-color: #E8F0FE;\n",
              "      --fill-color: #1967D2;\n",
              "      --hover-bg-color: #E2EBFA;\n",
              "      --hover-fill-color: #174EA6;\n",
              "      --disabled-fill-color: #AAA;\n",
              "      --disabled-bg-color: #DDD;\n",
              "  }\n",
              "\n",
              "  [theme=dark] .colab-df-quickchart {\n",
              "      --bg-color: #3B4455;\n",
              "      --fill-color: #D2E3FC;\n",
              "      --hover-bg-color: #434B5C;\n",
              "      --hover-fill-color: #FFFFFF;\n",
              "      --disabled-bg-color: #3B4455;\n",
              "      --disabled-fill-color: #666;\n",
              "  }\n",
              "\n",
              "  .colab-df-quickchart {\n",
              "    background-color: var(--bg-color);\n",
              "    border: none;\n",
              "    border-radius: 50%;\n",
              "    cursor: pointer;\n",
              "    display: none;\n",
              "    fill: var(--fill-color);\n",
              "    height: 32px;\n",
              "    padding: 0;\n",
              "    width: 32px;\n",
              "  }\n",
              "\n",
              "  .colab-df-quickchart:hover {\n",
              "    background-color: var(--hover-bg-color);\n",
              "    box-shadow: 0 1px 2px rgba(60, 64, 67, 0.3), 0 1px 3px 1px rgba(60, 64, 67, 0.15);\n",
              "    fill: var(--button-hover-fill-color);\n",
              "  }\n",
              "\n",
              "  .colab-df-quickchart-complete:disabled,\n",
              "  .colab-df-quickchart-complete:disabled:hover {\n",
              "    background-color: var(--disabled-bg-color);\n",
              "    fill: var(--disabled-fill-color);\n",
              "    box-shadow: none;\n",
              "  }\n",
              "\n",
              "  .colab-df-spinner {\n",
              "    border: 2px solid var(--fill-color);\n",
              "    border-color: transparent;\n",
              "    border-bottom-color: var(--fill-color);\n",
              "    animation:\n",
              "      spin 1s steps(1) infinite;\n",
              "  }\n",
              "\n",
              "  @keyframes spin {\n",
              "    0% {\n",
              "      border-color: transparent;\n",
              "      border-bottom-color: var(--fill-color);\n",
              "      border-left-color: var(--fill-color);\n",
              "    }\n",
              "    20% {\n",
              "      border-color: transparent;\n",
              "      border-left-color: var(--fill-color);\n",
              "      border-top-color: var(--fill-color);\n",
              "    }\n",
              "    30% {\n",
              "      border-color: transparent;\n",
              "      border-left-color: var(--fill-color);\n",
              "      border-top-color: var(--fill-color);\n",
              "      border-right-color: var(--fill-color);\n",
              "    }\n",
              "    40% {\n",
              "      border-color: transparent;\n",
              "      border-right-color: var(--fill-color);\n",
              "      border-top-color: var(--fill-color);\n",
              "    }\n",
              "    60% {\n",
              "      border-color: transparent;\n",
              "      border-right-color: var(--fill-color);\n",
              "    }\n",
              "    80% {\n",
              "      border-color: transparent;\n",
              "      border-right-color: var(--fill-color);\n",
              "      border-bottom-color: var(--fill-color);\n",
              "    }\n",
              "    90% {\n",
              "      border-color: transparent;\n",
              "      border-bottom-color: var(--fill-color);\n",
              "    }\n",
              "  }\n",
              "</style>\n",
              "\n",
              "      <script>\n",
              "        async function quickchart(key) {\n",
              "          const quickchartButtonEl =\n",
              "            document.querySelector('#' + key + ' button');\n",
              "          quickchartButtonEl.disabled = true;  // To prevent multiple clicks.\n",
              "          quickchartButtonEl.classList.add('colab-df-spinner');\n",
              "          try {\n",
              "            const charts = await google.colab.kernel.invokeFunction(\n",
              "                'suggestCharts', [key], {});\n",
              "          } catch (error) {\n",
              "            console.error('Error during call to suggestCharts:', error);\n",
              "          }\n",
              "          quickchartButtonEl.classList.remove('colab-df-spinner');\n",
              "          quickchartButtonEl.classList.add('colab-df-quickchart-complete');\n",
              "        }\n",
              "        (() => {\n",
              "          let quickchartButtonEl =\n",
              "            document.querySelector('#df-73c0aed5-6071-4a05-8c0f-4c8e1ffa77af button');\n",
              "          quickchartButtonEl.style.display =\n",
              "            google.colab.kernel.accessAllowed ? 'block' : 'none';\n",
              "        })();\n",
              "      </script>\n",
              "    </div>\n",
              "\n",
              "    </div>\n",
              "  </div>\n"
            ],
            "application/vnd.google.colaboratory.intrinsic+json": {
              "type": "dataframe",
              "summary": "{\n  \"name\": \"sales_series\",\n  \"rows\": 5,\n  \"fields\": [\n    {\n      \"column\": \"index\",\n      \"properties\": {\n        \"dtype\": \"string\",\n        \"num_unique_values\": 4,\n        \"samples\": [\n          \"tea\",\n          \"sugar\",\n          \"Coffee\"\n        ],\n        \"semantic_type\": \"\",\n        \"description\": \"\"\n      }\n    },\n    {\n      \"column\": \"Sales\",\n      \"properties\": {\n        \"dtype\": \"number\",\n        \"std\": 223,\n        \"min\": 0,\n        \"max\": 518,\n        \"num_unique_values\": 4,\n        \"samples\": [\n          5,\n          518,\n          0\n        ],\n        \"semantic_type\": \"\",\n        \"description\": \"\"\n      }\n    }\n  ]\n}"
            }
          },
          "metadata": {},
          "execution_count": 36
        }
      ]
    },
    {
      "cell_type": "markdown",
      "source": [
        "## Filtering Series"
      ],
      "metadata": {
        "id": "B0SGVvZbz7Pl"
      }
    },
    {
      "cell_type": "markdown",
      "source": [
        "You can filter a series by passing a logical test into the .loc[] accessor"
      ],
      "metadata": {
        "id": "XGay9c33z-zA"
      }
    },
    {
      "cell_type": "code",
      "source": [
        "sales_series.loc[sales_series>0]"
      ],
      "metadata": {
        "colab": {
          "base_uri": "https://localhost:8080/",
          "height": 178
        },
        "id": "xgp644Vd0FYi",
        "outputId": "0f6b0214-3163-4c7e-db73-8d5fd15a504a"
      },
      "execution_count": null,
      "outputs": [
        {
          "output_type": "execute_result",
          "data": {
            "text/plain": [
              "Coffee      5\n",
              "tea       155\n",
              "sugar     518\n",
              "Name: Sales, dtype: int64"
            ],
            "text/html": [
              "<div>\n",
              "<style scoped>\n",
              "    .dataframe tbody tr th:only-of-type {\n",
              "        vertical-align: middle;\n",
              "    }\n",
              "\n",
              "    .dataframe tbody tr th {\n",
              "        vertical-align: top;\n",
              "    }\n",
              "\n",
              "    .dataframe thead th {\n",
              "        text-align: right;\n",
              "    }\n",
              "</style>\n",
              "<table border=\"1\" class=\"dataframe\">\n",
              "  <thead>\n",
              "    <tr style=\"text-align: right;\">\n",
              "      <th></th>\n",
              "      <th>Sales</th>\n",
              "    </tr>\n",
              "  </thead>\n",
              "  <tbody>\n",
              "    <tr>\n",
              "      <th>Coffee</th>\n",
              "      <td>5</td>\n",
              "    </tr>\n",
              "    <tr>\n",
              "      <th>tea</th>\n",
              "      <td>155</td>\n",
              "    </tr>\n",
              "    <tr>\n",
              "      <th>sugar</th>\n",
              "      <td>518</td>\n",
              "    </tr>\n",
              "  </tbody>\n",
              "</table>\n",
              "</div><br><label><b>dtype:</b> int64</label>"
            ]
          },
          "metadata": {},
          "execution_count": 38
        }
      ]
    },
    {
      "cell_type": "markdown",
      "source": [
        "Logical tests are available in Pandas to show some specific elements of the series only.\n",
        "\n",
        "- Equal: .eq()\n",
        "- Not Equal: .ne()\n",
        "- Less Than or Equal: le()\n",
        "- Less Than: .lt()\n",
        "- Greater Than or Equal: .ge()\n",
        "- Greater Than: .gt()\n",
        "- Membership Test: .isin()\n",
        "- Inverse Membership: ~.isin()"
      ],
      "metadata": {
        "id": "YZ6AuTng11iy"
      }
    },
    {
      "cell_type": "code",
      "source": [
        "print(sales_series.index.isin([\"coffee\",\"tea\"]))\n",
        "print(~sales_series.index.isin([\"coffee\",\"tea\"]))"
      ],
      "metadata": {
        "colab": {
          "base_uri": "https://localhost:8080/"
        },
        "id": "uJLDgNku1zut",
        "outputId": "0e2522ea-5097-4210-ea89-f2143ff90cd3"
      },
      "execution_count": null,
      "outputs": [
        {
          "output_type": "stream",
          "name": "stdout",
          "text": [
            "[False False  True False False]\n",
            "[ True  True False  True  True]\n"
          ]
        }
      ]
    },
    {
      "cell_type": "markdown",
      "source": [
        "## Sorting Series"
      ],
      "metadata": {
        "id": "IQLzRgdp3Y1S"
      }
    },
    {
      "cell_type": "markdown",
      "source": [
        "Sorting can be done on a series by their values or their index."
      ],
      "metadata": {
        "id": "1SInvDF43hfG"
      }
    },
    {
      "cell_type": "code",
      "source": [
        "# sort_values() method sorts a Series by its values\n",
        "\n",
        "# Ascending Sort\n",
        "print(sales_series.sort_values())\n",
        "# Descending Sort\n",
        "print(sales_series.sort_values(ascending=False))"
      ],
      "metadata": {
        "colab": {
          "base_uri": "https://localhost:8080/"
        },
        "id": "yh0ulwVo3bYE",
        "outputId": "b1c41c14-fb17-4353-a2ec-a499bec63274"
      },
      "execution_count": null,
      "outputs": [
        {
          "output_type": "stream",
          "name": "stdout",
          "text": [
            "Coffee       0\n",
            "coconut      0\n",
            "Coffee       5\n",
            "tea        155\n",
            "sugar      518\n",
            "Name: Sales, dtype: int64\n",
            "sugar      518\n",
            "tea        155\n",
            "Coffee       5\n",
            "Coffee       0\n",
            "coconut      0\n",
            "Name: Sales, dtype: int64\n"
          ]
        }
      ]
    },
    {
      "cell_type": "code",
      "source": [
        "# sort_index() method sorts a Series by its index\n",
        "\n",
        "# Ascending Sort\n",
        "print(sales_series.sort_index())\n",
        "# Descending Sort\n",
        "print(sales_series.sort_index(ascending=False))"
      ],
      "metadata": {
        "colab": {
          "base_uri": "https://localhost:8080/"
        },
        "id": "D3zuEOBY4T-J",
        "outputId": "ea744529-0051-443d-b864-52494a3870ea"
      },
      "execution_count": null,
      "outputs": [
        {
          "output_type": "stream",
          "name": "stdout",
          "text": [
            "Coffee       0\n",
            "Coffee       5\n",
            "coconut      0\n",
            "sugar      518\n",
            "tea        155\n",
            "Name: Sales, dtype: int64\n",
            "tea        155\n",
            "sugar      518\n",
            "coconut      0\n",
            "Coffee       0\n",
            "Coffee       5\n",
            "Name: Sales, dtype: int64\n"
          ]
        }
      ]
    }
  ]
}